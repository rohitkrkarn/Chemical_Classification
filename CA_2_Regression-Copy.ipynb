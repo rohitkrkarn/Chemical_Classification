{
 "cells": [
  {
   "cell_type": "code",
   "execution_count": 1,
   "metadata": {},
   "outputs": [],
   "source": [
    "# Importing libraries\n",
    "import pandas as pd\n",
    "import numpy as np\n",
    "import copy\n",
    "import matplotlib.pyplot as plt\n",
    "import seaborn as sns\n",
    "from matplotlib import rcParams\n",
    "import scipy.stats as st\n",
    "from sklearn import metrics\n",
    "import mpl_toolkits\n",
    "get_ipython().run_line_magic('matplotlib', 'inline')"
   ]
  },
  {
   "cell_type": "code",
   "execution_count": 2,
   "metadata": {},
   "outputs": [],
   "source": [
    "# Loading the data minding null values\n",
    "data = pd.read_csv(\"PUF2018.csv\", na_values = [9, \"\"], keep_default_na = False)"
   ]
  },
  {
   "cell_type": "markdown",
   "metadata": {},
   "source": [
    "Loading data excluding 9 (since this represents imputed value/null in the dataset) and missing value"
   ]
  },
  {
   "cell_type": "code",
   "execution_count": 3,
   "metadata": {},
   "outputs": [
    {
     "data": {
      "text/html": [
       "<div>\n",
       "<style scoped>\n",
       "    .dataframe tbody tr th:only-of-type {\n",
       "        vertical-align: middle;\n",
       "    }\n",
       "\n",
       "    .dataframe tbody tr th {\n",
       "        vertical-align: top;\n",
       "    }\n",
       "\n",
       "    .dataframe thead th {\n",
       "        text-align: right;\n",
       "    }\n",
       "</style>\n",
       "<table border=\"1\" class=\"dataframe\">\n",
       "  <thead>\n",
       "    <tr style=\"text-align: right;\">\n",
       "      <th></th>\n",
       "      <th>CONTROL</th>\n",
       "      <th>SHIPMONTH</th>\n",
       "      <th>WEIGHT</th>\n",
       "      <th>WGTADJ</th>\n",
       "      <th>REGION</th>\n",
       "      <th>SECTIONS</th>\n",
       "      <th>STATUS</th>\n",
       "      <th>PRICE</th>\n",
       "      <th>SQFT</th>\n",
       "      <th>BEDROOMS</th>\n",
       "      <th>...</th>\n",
       "      <th>FOUNDATION</th>\n",
       "      <th>SECURED</th>\n",
       "      <th>JSTATUS</th>\n",
       "      <th>JPRICE</th>\n",
       "      <th>JSQFT</th>\n",
       "      <th>JBEDROOM</th>\n",
       "      <th>JTITLE</th>\n",
       "      <th>JLOCATION</th>\n",
       "      <th>JFOUNDATION</th>\n",
       "      <th>JSECURED</th>\n",
       "    </tr>\n",
       "  </thead>\n",
       "  <tbody>\n",
       "    <tr>\n",
       "      <td>0</td>\n",
       "      <td>18010001</td>\n",
       "      <td>201801</td>\n",
       "      <td>54.2857</td>\n",
       "      <td>0.9682</td>\n",
       "      <td>3</td>\n",
       "      <td>1</td>\n",
       "      <td>2</td>\n",
       "      <td>34900.0</td>\n",
       "      <td>1100.0</td>\n",
       "      <td>3.0</td>\n",
       "      <td>...</td>\n",
       "      <td>3.0</td>\n",
       "      <td>1.0</td>\n",
       "      <td>R</td>\n",
       "      <td>R</td>\n",
       "      <td>R</td>\n",
       "      <td>R</td>\n",
       "      <td>R</td>\n",
       "      <td>R</td>\n",
       "      <td>R</td>\n",
       "      <td>R</td>\n",
       "    </tr>\n",
       "    <tr>\n",
       "      <td>1</td>\n",
       "      <td>18010002</td>\n",
       "      <td>201801</td>\n",
       "      <td>54.2857</td>\n",
       "      <td>0.9682</td>\n",
       "      <td>3</td>\n",
       "      <td>1</td>\n",
       "      <td>2</td>\n",
       "      <td>27700.0</td>\n",
       "      <td>680.0</td>\n",
       "      <td>1.0</td>\n",
       "      <td>...</td>\n",
       "      <td>3.0</td>\n",
       "      <td>1.0</td>\n",
       "      <td>R</td>\n",
       "      <td>R</td>\n",
       "      <td>R</td>\n",
       "      <td>R</td>\n",
       "      <td>R</td>\n",
       "      <td>R</td>\n",
       "      <td>R</td>\n",
       "      <td>R</td>\n",
       "    </tr>\n",
       "    <tr>\n",
       "      <td>2</td>\n",
       "      <td>18010003</td>\n",
       "      <td>201801</td>\n",
       "      <td>16.8842</td>\n",
       "      <td>0.9682</td>\n",
       "      <td>4</td>\n",
       "      <td>1</td>\n",
       "      <td>2</td>\n",
       "      <td>97000.0</td>\n",
       "      <td>770.0</td>\n",
       "      <td>1.0</td>\n",
       "      <td>...</td>\n",
       "      <td>2.0</td>\n",
       "      <td>1.0</td>\n",
       "      <td>R</td>\n",
       "      <td>R</td>\n",
       "      <td>R</td>\n",
       "      <td>R</td>\n",
       "      <td>R</td>\n",
       "      <td>R</td>\n",
       "      <td>R</td>\n",
       "      <td>R</td>\n",
       "    </tr>\n",
       "    <tr>\n",
       "      <td>3</td>\n",
       "      <td>18010004</td>\n",
       "      <td>201801</td>\n",
       "      <td>16.8842</td>\n",
       "      <td>0.9682</td>\n",
       "      <td>4</td>\n",
       "      <td>1</td>\n",
       "      <td>2</td>\n",
       "      <td>61000.0</td>\n",
       "      <td>530.0</td>\n",
       "      <td>1.0</td>\n",
       "      <td>...</td>\n",
       "      <td>2.0</td>\n",
       "      <td>1.0</td>\n",
       "      <td>R</td>\n",
       "      <td>R</td>\n",
       "      <td>R</td>\n",
       "      <td>R</td>\n",
       "      <td>R</td>\n",
       "      <td>R</td>\n",
       "      <td>R</td>\n",
       "      <td>R</td>\n",
       "    </tr>\n",
       "    <tr>\n",
       "      <td>4</td>\n",
       "      <td>18010005</td>\n",
       "      <td>201801</td>\n",
       "      <td>54.2857</td>\n",
       "      <td>0.9682</td>\n",
       "      <td>4</td>\n",
       "      <td>1</td>\n",
       "      <td>2</td>\n",
       "      <td>34900.0</td>\n",
       "      <td>990.0</td>\n",
       "      <td>1.0</td>\n",
       "      <td>...</td>\n",
       "      <td>3.0</td>\n",
       "      <td>1.0</td>\n",
       "      <td>R</td>\n",
       "      <td>R</td>\n",
       "      <td>R</td>\n",
       "      <td>R</td>\n",
       "      <td>R</td>\n",
       "      <td>R</td>\n",
       "      <td>R</td>\n",
       "      <td>R</td>\n",
       "    </tr>\n",
       "  </tbody>\n",
       "</table>\n",
       "<p>5 rows × 22 columns</p>\n",
       "</div>"
      ],
      "text/plain": [
       "    CONTROL  SHIPMONTH   WEIGHT  WGTADJ  REGION  SECTIONS  STATUS    PRICE  \\\n",
       "0  18010001     201801  54.2857  0.9682       3         1       2  34900.0   \n",
       "1  18010002     201801  54.2857  0.9682       3         1       2  27700.0   \n",
       "2  18010003     201801  16.8842  0.9682       4         1       2  97000.0   \n",
       "3  18010004     201801  16.8842  0.9682       4         1       2  61000.0   \n",
       "4  18010005     201801  54.2857  0.9682       4         1       2  34900.0   \n",
       "\n",
       "     SQFT  BEDROOMS  ...  FOUNDATION  SECURED  JSTATUS  JPRICE JSQFT JBEDROOM  \\\n",
       "0  1100.0       3.0  ...         3.0      1.0        R       R     R        R   \n",
       "1   680.0       1.0  ...         3.0      1.0        R       R     R        R   \n",
       "2   770.0       1.0  ...         2.0      1.0        R       R     R        R   \n",
       "3   530.0       1.0  ...         2.0      1.0        R       R     R        R   \n",
       "4   990.0       1.0  ...         3.0      1.0        R       R     R        R   \n",
       "\n",
       "  JTITLE JLOCATION JFOUNDATION JSECURED  \n",
       "0      R         R           R        R  \n",
       "1      R         R           R        R  \n",
       "2      R         R           R        R  \n",
       "3      R         R           R        R  \n",
       "4      R         R           R        R  \n",
       "\n",
       "[5 rows x 22 columns]"
      ]
     },
     "execution_count": 3,
     "metadata": {},
     "output_type": "execute_result"
    }
   ],
   "source": [
    "# Data exploration\n",
    "data.head()"
   ]
  },
  {
   "cell_type": "markdown",
   "metadata": {},
   "source": [
    "Checking the data"
   ]
  },
  {
   "cell_type": "code",
   "execution_count": 4,
   "metadata": {},
   "outputs": [
    {
     "data": {
      "text/plain": [
       "(6188, 22)"
      ]
     },
     "execution_count": 4,
     "metadata": {},
     "output_type": "execute_result"
    }
   ],
   "source": [
    "# Checking the shape of the data\n",
    "data.shape"
   ]
  },
  {
   "cell_type": "markdown",
   "metadata": {},
   "source": [
    "Checking the shape (rows and columns) of the data"
   ]
  },
  {
   "cell_type": "code",
   "execution_count": 5,
   "metadata": {},
   "outputs": [
    {
     "name": "stdout",
     "output_type": "stream",
     "text": [
      "<class 'pandas.core.frame.DataFrame'>\n",
      "RangeIndex: 6188 entries, 0 to 6187\n",
      "Data columns (total 22 columns):\n",
      "CONTROL        6188 non-null int64\n",
      "SHIPMONTH      6188 non-null int64\n",
      "WEIGHT         6188 non-null float64\n",
      "WGTADJ         6188 non-null float64\n",
      "REGION         6188 non-null int64\n",
      "SECTIONS       6188 non-null int64\n",
      "STATUS         6188 non-null int64\n",
      "PRICE          4662 non-null float64\n",
      "SQFT           4791 non-null float64\n",
      "BEDROOMS       4791 non-null float64\n",
      "TITLED         3068 non-null float64\n",
      "LOCATION       3068 non-null float64\n",
      "FOUNDATION     3068 non-null float64\n",
      "SECURED        1216 non-null float64\n",
      "JSTATUS        6188 non-null object\n",
      "JPRICE         4662 non-null object\n",
      "JSQFT          4791 non-null object\n",
      "JBEDROOM       4791 non-null object\n",
      "JTITLE         3068 non-null object\n",
      "JLOCATION      3068 non-null object\n",
      "JFOUNDATION    3068 non-null object\n",
      "JSECURED       3068 non-null object\n",
      "dtypes: float64(9), int64(5), object(8)\n",
      "memory usage: 1.0+ MB\n"
     ]
    }
   ],
   "source": [
    "# Checking data types\n",
    "data.info()"
   ]
  },
  {
   "cell_type": "markdown",
   "metadata": {},
   "source": [
    " 17 continuous variables (5 int and 12 float) & 8 character variables"
   ]
  },
  {
   "cell_type": "code",
   "execution_count": 6,
   "metadata": {},
   "outputs": [],
   "source": [
    "# Creating separate dataframe for int and character datatypes columns\n",
    "data1 = pd.DataFrame(data, columns = ['PRICE', 'SQFT'])\n",
    "data2 = pd.DataFrame(data, columns = ['BEDROOMS', 'TITLED', 'LOCATION', 'FOUNDATION', 'SECURED'])"
   ]
  },
  {
   "cell_type": "code",
   "execution_count": 7,
   "metadata": {},
   "outputs": [
    {
     "data": {
      "text/html": [
       "<div>\n",
       "<style scoped>\n",
       "    .dataframe tbody tr th:only-of-type {\n",
       "        vertical-align: middle;\n",
       "    }\n",
       "\n",
       "    .dataframe tbody tr th {\n",
       "        vertical-align: top;\n",
       "    }\n",
       "\n",
       "    .dataframe thead th {\n",
       "        text-align: right;\n",
       "    }\n",
       "</style>\n",
       "<table border=\"1\" class=\"dataframe\">\n",
       "  <thead>\n",
       "    <tr style=\"text-align: right;\">\n",
       "      <th></th>\n",
       "      <th>PRICE</th>\n",
       "      <th>SQFT</th>\n",
       "    </tr>\n",
       "  </thead>\n",
       "  <tbody>\n",
       "    <tr>\n",
       "      <td>0</td>\n",
       "      <td>34900.0</td>\n",
       "      <td>1100.0</td>\n",
       "    </tr>\n",
       "    <tr>\n",
       "      <td>1</td>\n",
       "      <td>27700.0</td>\n",
       "      <td>680.0</td>\n",
       "    </tr>\n",
       "    <tr>\n",
       "      <td>2</td>\n",
       "      <td>97000.0</td>\n",
       "      <td>770.0</td>\n",
       "    </tr>\n",
       "    <tr>\n",
       "      <td>3</td>\n",
       "      <td>61000.0</td>\n",
       "      <td>530.0</td>\n",
       "    </tr>\n",
       "    <tr>\n",
       "      <td>4</td>\n",
       "      <td>34900.0</td>\n",
       "      <td>990.0</td>\n",
       "    </tr>\n",
       "    <tr>\n",
       "      <td>...</td>\n",
       "      <td>...</td>\n",
       "      <td>...</td>\n",
       "    </tr>\n",
       "    <tr>\n",
       "      <td>6183</td>\n",
       "      <td>NaN</td>\n",
       "      <td>NaN</td>\n",
       "    </tr>\n",
       "    <tr>\n",
       "      <td>6184</td>\n",
       "      <td>NaN</td>\n",
       "      <td>NaN</td>\n",
       "    </tr>\n",
       "    <tr>\n",
       "      <td>6185</td>\n",
       "      <td>NaN</td>\n",
       "      <td>NaN</td>\n",
       "    </tr>\n",
       "    <tr>\n",
       "      <td>6186</td>\n",
       "      <td>NaN</td>\n",
       "      <td>NaN</td>\n",
       "    </tr>\n",
       "    <tr>\n",
       "      <td>6187</td>\n",
       "      <td>NaN</td>\n",
       "      <td>NaN</td>\n",
       "    </tr>\n",
       "  </tbody>\n",
       "</table>\n",
       "<p>6188 rows × 2 columns</p>\n",
       "</div>"
      ],
      "text/plain": [
       "        PRICE    SQFT\n",
       "0     34900.0  1100.0\n",
       "1     27700.0   680.0\n",
       "2     97000.0   770.0\n",
       "3     61000.0   530.0\n",
       "4     34900.0   990.0\n",
       "...       ...     ...\n",
       "6183      NaN     NaN\n",
       "6184      NaN     NaN\n",
       "6185      NaN     NaN\n",
       "6186      NaN     NaN\n",
       "6187      NaN     NaN\n",
       "\n",
       "[6188 rows x 2 columns]"
      ]
     },
     "execution_count": 7,
     "metadata": {},
     "output_type": "execute_result"
    }
   ],
   "source": [
    "# Checking the continuous dataframe\n",
    "data1"
   ]
  },
  {
   "cell_type": "code",
   "execution_count": 8,
   "metadata": {},
   "outputs": [
    {
     "data": {
      "text/plain": [
       "PRICE    1526\n",
       "SQFT     1397\n",
       "dtype: int64"
      ]
     },
     "execution_count": 8,
     "metadata": {},
     "output_type": "execute_result"
    }
   ],
   "source": [
    "# Missing value count\n",
    "data1.isnull().sum()"
   ]
  },
  {
   "cell_type": "code",
   "execution_count": 9,
   "metadata": {},
   "outputs": [
    {
     "name": "stdout",
     "output_type": "stream",
     "text": [
      "PRICE    24.66\n",
      "SQFT     22.58\n",
      "dtype: float64\n"
     ]
    }
   ],
   "source": [
    "# Missing value percentage\n",
    "percent_missing = data1.isnull().sum() * 100 / len(data1)\n",
    "print(round(percent_missing,2))"
   ]
  },
  {
   "cell_type": "code",
   "execution_count": 10,
   "metadata": {},
   "outputs": [],
   "source": [
    "# Imputing null values with mean for integer type missing values\n",
    "data1.fillna(data.mean(), inplace=True)"
   ]
  },
  {
   "cell_type": "code",
   "execution_count": 11,
   "metadata": {},
   "outputs": [
    {
     "data": {
      "text/plain": [
       "PRICE    0\n",
       "SQFT     0\n",
       "dtype: int64"
      ]
     },
     "execution_count": 11,
     "metadata": {},
     "output_type": "execute_result"
    }
   ],
   "source": [
    "# Checking null value again after imputation\n",
    "data1.isnull().sum()"
   ]
  },
  {
   "cell_type": "code",
   "execution_count": 12,
   "metadata": {},
   "outputs": [
    {
     "data": {
      "text/html": [
       "<div>\n",
       "<style scoped>\n",
       "    .dataframe tbody tr th:only-of-type {\n",
       "        vertical-align: middle;\n",
       "    }\n",
       "\n",
       "    .dataframe tbody tr th {\n",
       "        vertical-align: top;\n",
       "    }\n",
       "\n",
       "    .dataframe thead th {\n",
       "        text-align: right;\n",
       "    }\n",
       "</style>\n",
       "<table border=\"1\" class=\"dataframe\">\n",
       "  <thead>\n",
       "    <tr style=\"text-align: right;\">\n",
       "      <th></th>\n",
       "      <th>BEDROOMS</th>\n",
       "      <th>TITLED</th>\n",
       "      <th>LOCATION</th>\n",
       "      <th>FOUNDATION</th>\n",
       "      <th>SECURED</th>\n",
       "    </tr>\n",
       "  </thead>\n",
       "  <tbody>\n",
       "    <tr>\n",
       "      <td>0</td>\n",
       "      <td>3.0</td>\n",
       "      <td>2.0</td>\n",
       "      <td>3.0</td>\n",
       "      <td>3.0</td>\n",
       "      <td>1.0</td>\n",
       "    </tr>\n",
       "    <tr>\n",
       "      <td>1</td>\n",
       "      <td>1.0</td>\n",
       "      <td>2.0</td>\n",
       "      <td>3.0</td>\n",
       "      <td>3.0</td>\n",
       "      <td>1.0</td>\n",
       "    </tr>\n",
       "    <tr>\n",
       "      <td>2</td>\n",
       "      <td>1.0</td>\n",
       "      <td>2.0</td>\n",
       "      <td>1.0</td>\n",
       "      <td>2.0</td>\n",
       "      <td>1.0</td>\n",
       "    </tr>\n",
       "    <tr>\n",
       "      <td>3</td>\n",
       "      <td>1.0</td>\n",
       "      <td>2.0</td>\n",
       "      <td>1.0</td>\n",
       "      <td>2.0</td>\n",
       "      <td>1.0</td>\n",
       "    </tr>\n",
       "    <tr>\n",
       "      <td>4</td>\n",
       "      <td>1.0</td>\n",
       "      <td>2.0</td>\n",
       "      <td>3.0</td>\n",
       "      <td>3.0</td>\n",
       "      <td>1.0</td>\n",
       "    </tr>\n",
       "    <tr>\n",
       "      <td>...</td>\n",
       "      <td>...</td>\n",
       "      <td>...</td>\n",
       "      <td>...</td>\n",
       "      <td>...</td>\n",
       "      <td>...</td>\n",
       "    </tr>\n",
       "    <tr>\n",
       "      <td>6183</td>\n",
       "      <td>NaN</td>\n",
       "      <td>NaN</td>\n",
       "      <td>NaN</td>\n",
       "      <td>NaN</td>\n",
       "      <td>NaN</td>\n",
       "    </tr>\n",
       "    <tr>\n",
       "      <td>6184</td>\n",
       "      <td>NaN</td>\n",
       "      <td>NaN</td>\n",
       "      <td>NaN</td>\n",
       "      <td>NaN</td>\n",
       "      <td>NaN</td>\n",
       "    </tr>\n",
       "    <tr>\n",
       "      <td>6185</td>\n",
       "      <td>NaN</td>\n",
       "      <td>NaN</td>\n",
       "      <td>NaN</td>\n",
       "      <td>NaN</td>\n",
       "      <td>NaN</td>\n",
       "    </tr>\n",
       "    <tr>\n",
       "      <td>6186</td>\n",
       "      <td>NaN</td>\n",
       "      <td>NaN</td>\n",
       "      <td>NaN</td>\n",
       "      <td>NaN</td>\n",
       "      <td>NaN</td>\n",
       "    </tr>\n",
       "    <tr>\n",
       "      <td>6187</td>\n",
       "      <td>NaN</td>\n",
       "      <td>NaN</td>\n",
       "      <td>NaN</td>\n",
       "      <td>NaN</td>\n",
       "      <td>NaN</td>\n",
       "    </tr>\n",
       "  </tbody>\n",
       "</table>\n",
       "<p>6188 rows × 5 columns</p>\n",
       "</div>"
      ],
      "text/plain": [
       "      BEDROOMS  TITLED  LOCATION  FOUNDATION  SECURED\n",
       "0          3.0     2.0       3.0         3.0      1.0\n",
       "1          1.0     2.0       3.0         3.0      1.0\n",
       "2          1.0     2.0       1.0         2.0      1.0\n",
       "3          1.0     2.0       1.0         2.0      1.0\n",
       "4          1.0     2.0       3.0         3.0      1.0\n",
       "...        ...     ...       ...         ...      ...\n",
       "6183       NaN     NaN       NaN         NaN      NaN\n",
       "6184       NaN     NaN       NaN         NaN      NaN\n",
       "6185       NaN     NaN       NaN         NaN      NaN\n",
       "6186       NaN     NaN       NaN         NaN      NaN\n",
       "6187       NaN     NaN       NaN         NaN      NaN\n",
       "\n",
       "[6188 rows x 5 columns]"
      ]
     },
     "execution_count": 12,
     "metadata": {},
     "output_type": "execute_result"
    }
   ],
   "source": [
    "# Checking 2nd dataframe containing continuous variables\n",
    "data2"
   ]
  },
  {
   "cell_type": "code",
   "execution_count": 13,
   "metadata": {},
   "outputs": [
    {
     "data": {
      "text/plain": [
       "BEDROOMS      1397\n",
       "TITLED        3120\n",
       "LOCATION      3120\n",
       "FOUNDATION    3120\n",
       "SECURED       4972\n",
       "dtype: int64"
      ]
     },
     "execution_count": 13,
     "metadata": {},
     "output_type": "execute_result"
    }
   ],
   "source": [
    "# Checking null values\n",
    "data2.isnull().sum()"
   ]
  },
  {
   "cell_type": "markdown",
   "metadata": {},
   "source": [
    "Count of null values"
   ]
  },
  {
   "cell_type": "code",
   "execution_count": 14,
   "metadata": {},
   "outputs": [
    {
     "name": "stdout",
     "output_type": "stream",
     "text": [
      "BEDROOMS      22.58\n",
      "TITLED        50.42\n",
      "LOCATION      50.42\n",
      "FOUNDATION    50.42\n",
      "SECURED       80.35\n",
      "dtype: float64\n"
     ]
    }
   ],
   "source": [
    "# Missing value percentage\n",
    "per_missing = data2.isnull().sum() * 100 / len(data2)\n",
    "print(round(per_missing,2))"
   ]
  },
  {
   "cell_type": "markdown",
   "metadata": {},
   "source": [
    "Missing count %ge. 'SECURED' has 80% missing data hence can be dropped. 'TITLED', 'LOCATION' and 'FOUNDATION' have 50%\n",
    "missing data as well but being retained in absence of any other attributes."
   ]
  },
  {
   "cell_type": "code",
   "execution_count": 15,
   "metadata": {},
   "outputs": [],
   "source": [
    "# Imputing mode to all the columns of the Data2 for categorical data\n",
    "for column in data2.columns:\n",
    "    data2[column].fillna(data2[column].mode()[0], inplace=True)"
   ]
  },
  {
   "cell_type": "code",
   "execution_count": 16,
   "metadata": {
    "scrolled": true
   },
   "outputs": [
    {
     "data": {
      "text/html": [
       "<div>\n",
       "<style scoped>\n",
       "    .dataframe tbody tr th:only-of-type {\n",
       "        vertical-align: middle;\n",
       "    }\n",
       "\n",
       "    .dataframe tbody tr th {\n",
       "        vertical-align: top;\n",
       "    }\n",
       "\n",
       "    .dataframe thead th {\n",
       "        text-align: right;\n",
       "    }\n",
       "</style>\n",
       "<table border=\"1\" class=\"dataframe\">\n",
       "  <thead>\n",
       "    <tr style=\"text-align: right;\">\n",
       "      <th></th>\n",
       "      <th>BEDROOMS</th>\n",
       "      <th>TITLED</th>\n",
       "      <th>LOCATION</th>\n",
       "      <th>FOUNDATION</th>\n",
       "      <th>SECURED</th>\n",
       "    </tr>\n",
       "  </thead>\n",
       "  <tbody>\n",
       "    <tr>\n",
       "      <td>0</td>\n",
       "      <td>3.0</td>\n",
       "      <td>2.0</td>\n",
       "      <td>3.0</td>\n",
       "      <td>3.0</td>\n",
       "      <td>1.0</td>\n",
       "    </tr>\n",
       "    <tr>\n",
       "      <td>1</td>\n",
       "      <td>1.0</td>\n",
       "      <td>2.0</td>\n",
       "      <td>3.0</td>\n",
       "      <td>3.0</td>\n",
       "      <td>1.0</td>\n",
       "    </tr>\n",
       "    <tr>\n",
       "      <td>2</td>\n",
       "      <td>1.0</td>\n",
       "      <td>2.0</td>\n",
       "      <td>1.0</td>\n",
       "      <td>2.0</td>\n",
       "      <td>1.0</td>\n",
       "    </tr>\n",
       "    <tr>\n",
       "      <td>3</td>\n",
       "      <td>1.0</td>\n",
       "      <td>2.0</td>\n",
       "      <td>1.0</td>\n",
       "      <td>2.0</td>\n",
       "      <td>1.0</td>\n",
       "    </tr>\n",
       "    <tr>\n",
       "      <td>4</td>\n",
       "      <td>1.0</td>\n",
       "      <td>2.0</td>\n",
       "      <td>3.0</td>\n",
       "      <td>3.0</td>\n",
       "      <td>1.0</td>\n",
       "    </tr>\n",
       "    <tr>\n",
       "      <td>...</td>\n",
       "      <td>...</td>\n",
       "      <td>...</td>\n",
       "      <td>...</td>\n",
       "      <td>...</td>\n",
       "      <td>...</td>\n",
       "    </tr>\n",
       "    <tr>\n",
       "      <td>6183</td>\n",
       "      <td>3.0</td>\n",
       "      <td>2.0</td>\n",
       "      <td>3.0</td>\n",
       "      <td>3.0</td>\n",
       "      <td>1.0</td>\n",
       "    </tr>\n",
       "    <tr>\n",
       "      <td>6184</td>\n",
       "      <td>3.0</td>\n",
       "      <td>2.0</td>\n",
       "      <td>3.0</td>\n",
       "      <td>3.0</td>\n",
       "      <td>1.0</td>\n",
       "    </tr>\n",
       "    <tr>\n",
       "      <td>6185</td>\n",
       "      <td>3.0</td>\n",
       "      <td>2.0</td>\n",
       "      <td>3.0</td>\n",
       "      <td>3.0</td>\n",
       "      <td>1.0</td>\n",
       "    </tr>\n",
       "    <tr>\n",
       "      <td>6186</td>\n",
       "      <td>3.0</td>\n",
       "      <td>2.0</td>\n",
       "      <td>3.0</td>\n",
       "      <td>3.0</td>\n",
       "      <td>1.0</td>\n",
       "    </tr>\n",
       "    <tr>\n",
       "      <td>6187</td>\n",
       "      <td>3.0</td>\n",
       "      <td>2.0</td>\n",
       "      <td>3.0</td>\n",
       "      <td>3.0</td>\n",
       "      <td>1.0</td>\n",
       "    </tr>\n",
       "  </tbody>\n",
       "</table>\n",
       "<p>6188 rows × 5 columns</p>\n",
       "</div>"
      ],
      "text/plain": [
       "      BEDROOMS  TITLED  LOCATION  FOUNDATION  SECURED\n",
       "0          3.0     2.0       3.0         3.0      1.0\n",
       "1          1.0     2.0       3.0         3.0      1.0\n",
       "2          1.0     2.0       1.0         2.0      1.0\n",
       "3          1.0     2.0       1.0         2.0      1.0\n",
       "4          1.0     2.0       3.0         3.0      1.0\n",
       "...        ...     ...       ...         ...      ...\n",
       "6183       3.0     2.0       3.0         3.0      1.0\n",
       "6184       3.0     2.0       3.0         3.0      1.0\n",
       "6185       3.0     2.0       3.0         3.0      1.0\n",
       "6186       3.0     2.0       3.0         3.0      1.0\n",
       "6187       3.0     2.0       3.0         3.0      1.0\n",
       "\n",
       "[6188 rows x 5 columns]"
      ]
     },
     "execution_count": 16,
     "metadata": {},
     "output_type": "execute_result"
    }
   ],
   "source": [
    "data2"
   ]
  },
  {
   "cell_type": "code",
   "execution_count": 17,
   "metadata": {},
   "outputs": [
    {
     "data": {
      "text/plain": [
       "BEDROOMS      0\n",
       "TITLED        0\n",
       "LOCATION      0\n",
       "FOUNDATION    0\n",
       "SECURED       0\n",
       "dtype: int64"
      ]
     },
     "execution_count": 17,
     "metadata": {},
     "output_type": "execute_result"
    }
   ],
   "source": [
    "# Checking Null count after imputation\n",
    "data2.isnull().sum()"
   ]
  },
  {
   "cell_type": "code",
   "execution_count": 18,
   "metadata": {},
   "outputs": [],
   "source": [
    "# Merging both dataframe\n",
    "Clean_data = pd.concat([data1, data2], axis=1, sort=False)"
   ]
  },
  {
   "cell_type": "code",
   "execution_count": 19,
   "metadata": {},
   "outputs": [
    {
     "data": {
      "text/html": [
       "<div>\n",
       "<style scoped>\n",
       "    .dataframe tbody tr th:only-of-type {\n",
       "        vertical-align: middle;\n",
       "    }\n",
       "\n",
       "    .dataframe tbody tr th {\n",
       "        vertical-align: top;\n",
       "    }\n",
       "\n",
       "    .dataframe thead th {\n",
       "        text-align: right;\n",
       "    }\n",
       "</style>\n",
       "<table border=\"1\" class=\"dataframe\">\n",
       "  <thead>\n",
       "    <tr style=\"text-align: right;\">\n",
       "      <th></th>\n",
       "      <th>PRICE</th>\n",
       "      <th>SQFT</th>\n",
       "      <th>BEDROOMS</th>\n",
       "      <th>TITLED</th>\n",
       "      <th>LOCATION</th>\n",
       "      <th>FOUNDATION</th>\n",
       "      <th>SECURED</th>\n",
       "    </tr>\n",
       "  </thead>\n",
       "  <tbody>\n",
       "    <tr>\n",
       "      <td>0</td>\n",
       "      <td>34900.000000</td>\n",
       "      <td>1100.000000</td>\n",
       "      <td>3.0</td>\n",
       "      <td>2.0</td>\n",
       "      <td>3.0</td>\n",
       "      <td>3.0</td>\n",
       "      <td>1.0</td>\n",
       "    </tr>\n",
       "    <tr>\n",
       "      <td>1</td>\n",
       "      <td>27700.000000</td>\n",
       "      <td>680.000000</td>\n",
       "      <td>1.0</td>\n",
       "      <td>2.0</td>\n",
       "      <td>3.0</td>\n",
       "      <td>3.0</td>\n",
       "      <td>1.0</td>\n",
       "    </tr>\n",
       "    <tr>\n",
       "      <td>2</td>\n",
       "      <td>97000.000000</td>\n",
       "      <td>770.000000</td>\n",
       "      <td>1.0</td>\n",
       "      <td>2.0</td>\n",
       "      <td>1.0</td>\n",
       "      <td>2.0</td>\n",
       "      <td>1.0</td>\n",
       "    </tr>\n",
       "    <tr>\n",
       "      <td>3</td>\n",
       "      <td>61000.000000</td>\n",
       "      <td>530.000000</td>\n",
       "      <td>1.0</td>\n",
       "      <td>2.0</td>\n",
       "      <td>1.0</td>\n",
       "      <td>2.0</td>\n",
       "      <td>1.0</td>\n",
       "    </tr>\n",
       "    <tr>\n",
       "      <td>4</td>\n",
       "      <td>34900.000000</td>\n",
       "      <td>990.000000</td>\n",
       "      <td>1.0</td>\n",
       "      <td>2.0</td>\n",
       "      <td>3.0</td>\n",
       "      <td>3.0</td>\n",
       "      <td>1.0</td>\n",
       "    </tr>\n",
       "    <tr>\n",
       "      <td>...</td>\n",
       "      <td>...</td>\n",
       "      <td>...</td>\n",
       "      <td>...</td>\n",
       "      <td>...</td>\n",
       "      <td>...</td>\n",
       "      <td>...</td>\n",
       "      <td>...</td>\n",
       "    </tr>\n",
       "    <tr>\n",
       "      <td>6183</td>\n",
       "      <td>88585.263835</td>\n",
       "      <td>1499.759967</td>\n",
       "      <td>3.0</td>\n",
       "      <td>2.0</td>\n",
       "      <td>3.0</td>\n",
       "      <td>3.0</td>\n",
       "      <td>1.0</td>\n",
       "    </tr>\n",
       "    <tr>\n",
       "      <td>6184</td>\n",
       "      <td>88585.263835</td>\n",
       "      <td>1499.759967</td>\n",
       "      <td>3.0</td>\n",
       "      <td>2.0</td>\n",
       "      <td>3.0</td>\n",
       "      <td>3.0</td>\n",
       "      <td>1.0</td>\n",
       "    </tr>\n",
       "    <tr>\n",
       "      <td>6185</td>\n",
       "      <td>88585.263835</td>\n",
       "      <td>1499.759967</td>\n",
       "      <td>3.0</td>\n",
       "      <td>2.0</td>\n",
       "      <td>3.0</td>\n",
       "      <td>3.0</td>\n",
       "      <td>1.0</td>\n",
       "    </tr>\n",
       "    <tr>\n",
       "      <td>6186</td>\n",
       "      <td>88585.263835</td>\n",
       "      <td>1499.759967</td>\n",
       "      <td>3.0</td>\n",
       "      <td>2.0</td>\n",
       "      <td>3.0</td>\n",
       "      <td>3.0</td>\n",
       "      <td>1.0</td>\n",
       "    </tr>\n",
       "    <tr>\n",
       "      <td>6187</td>\n",
       "      <td>88585.263835</td>\n",
       "      <td>1499.759967</td>\n",
       "      <td>3.0</td>\n",
       "      <td>2.0</td>\n",
       "      <td>3.0</td>\n",
       "      <td>3.0</td>\n",
       "      <td>1.0</td>\n",
       "    </tr>\n",
       "  </tbody>\n",
       "</table>\n",
       "<p>6188 rows × 7 columns</p>\n",
       "</div>"
      ],
      "text/plain": [
       "             PRICE         SQFT  BEDROOMS  TITLED  LOCATION  FOUNDATION  \\\n",
       "0     34900.000000  1100.000000       3.0     2.0       3.0         3.0   \n",
       "1     27700.000000   680.000000       1.0     2.0       3.0         3.0   \n",
       "2     97000.000000   770.000000       1.0     2.0       1.0         2.0   \n",
       "3     61000.000000   530.000000       1.0     2.0       1.0         2.0   \n",
       "4     34900.000000   990.000000       1.0     2.0       3.0         3.0   \n",
       "...            ...          ...       ...     ...       ...         ...   \n",
       "6183  88585.263835  1499.759967       3.0     2.0       3.0         3.0   \n",
       "6184  88585.263835  1499.759967       3.0     2.0       3.0         3.0   \n",
       "6185  88585.263835  1499.759967       3.0     2.0       3.0         3.0   \n",
       "6186  88585.263835  1499.759967       3.0     2.0       3.0         3.0   \n",
       "6187  88585.263835  1499.759967       3.0     2.0       3.0         3.0   \n",
       "\n",
       "      SECURED  \n",
       "0         1.0  \n",
       "1         1.0  \n",
       "2         1.0  \n",
       "3         1.0  \n",
       "4         1.0  \n",
       "...       ...  \n",
       "6183      1.0  \n",
       "6184      1.0  \n",
       "6185      1.0  \n",
       "6186      1.0  \n",
       "6187      1.0  \n",
       "\n",
       "[6188 rows x 7 columns]"
      ]
     },
     "execution_count": 19,
     "metadata": {},
     "output_type": "execute_result"
    }
   ],
   "source": [
    "# Checking the data\n",
    "Clean_data"
   ]
  },
  {
   "cell_type": "code",
   "execution_count": 20,
   "metadata": {},
   "outputs": [
    {
     "data": {
      "text/plain": [
       "(6188, 7)"
      ]
     },
     "execution_count": 20,
     "metadata": {},
     "output_type": "execute_result"
    }
   ],
   "source": [
    "# Checking shape of the data\n",
    "Clean_data.shape"
   ]
  },
  {
   "cell_type": "code",
   "execution_count": 21,
   "metadata": {},
   "outputs": [
    {
     "name": "stdout",
     "output_type": "stream",
     "text": [
      "<class 'pandas.core.frame.DataFrame'>\n",
      "RangeIndex: 6188 entries, 0 to 6187\n",
      "Data columns (total 7 columns):\n",
      "PRICE         6188 non-null float64\n",
      "SQFT          6188 non-null float64\n",
      "BEDROOMS      6188 non-null float64\n",
      "TITLED        6188 non-null float64\n",
      "LOCATION      6188 non-null float64\n",
      "FOUNDATION    6188 non-null float64\n",
      "SECURED       6188 non-null float64\n",
      "dtypes: float64(7)\n",
      "memory usage: 338.5 KB\n"
     ]
    }
   ],
   "source": [
    "# Checking datatype\n",
    "Clean_data.info()"
   ]
  },
  {
   "cell_type": "code",
   "execution_count": 22,
   "metadata": {},
   "outputs": [
    {
     "data": {
      "image/png": "[encoded data removed]",
      "text/plain": [
       "<Figure size 864x432 with 2 Axes>"
      ]
     },
     "metadata": {
      "needs_background": "light"
     },
     "output_type": "display_data"
    }
   ],
   "source": [
    "# Understanding the Price variable\n",
    "plt.figure(figsize = (12, 6))\n",
    "\n",
    "plt.subplot(121)\n",
    "plt.title('Price Distribuition')\n",
    "sns.distplot(Clean_data['PRICE'])\n",
    "\n",
    "plt.subplot(122)\n",
    "g1 = plt.scatter(range(Clean_data.shape[0]), np.sort(Clean_data.PRICE.values))\n",
    "g1= plt.title(\"Price Curve Distribuition\", fontsize=15)\n",
    "g1 = plt.xlabel(\"\")\n",
    "g1 = plt.ylabel(\"Amount(US)\", fontsize=12)\n",
    "\n",
    "plt.subplots_adjust(wspace = 0.3, hspace = 0.5,\n",
    "                    top = 0.9)\n",
    "plt.show()"
   ]
  },
  {
   "cell_type": "markdown",
   "metadata": {},
   "source": [
    "1. Most of the house prices fall in the $50k - $100k bracket.\n",
    "2. Highend houses (>$150k) are significantly lower."
   ]
  },
  {
   "cell_type": "code",
   "execution_count": 23,
   "metadata": {},
   "outputs": [
    {
     "data": {
      "text/html": [
       "<div>\n",
       "<style scoped>\n",
       "    .dataframe tbody tr th:only-of-type {\n",
       "        vertical-align: middle;\n",
       "    }\n",
       "\n",
       "    .dataframe tbody tr th {\n",
       "        vertical-align: top;\n",
       "    }\n",
       "\n",
       "    .dataframe thead th {\n",
       "        text-align: right;\n",
       "    }\n",
       "</style>\n",
       "<table border=\"1\" class=\"dataframe\">\n",
       "  <thead>\n",
       "    <tr style=\"text-align: right;\">\n",
       "      <th></th>\n",
       "      <th>PRICE</th>\n",
       "      <th>SQFT</th>\n",
       "      <th>BEDROOMS</th>\n",
       "      <th>TITLED</th>\n",
       "      <th>LOCATION</th>\n",
       "      <th>FOUNDATION</th>\n",
       "      <th>SECURED</th>\n",
       "    </tr>\n",
       "  </thead>\n",
       "  <tbody>\n",
       "    <tr>\n",
       "      <td>count</td>\n",
       "      <td>6188.000000</td>\n",
       "      <td>6188.000000</td>\n",
       "      <td>6188.000000</td>\n",
       "      <td>6188.000000</td>\n",
       "      <td>6188.000000</td>\n",
       "      <td>6188.000000</td>\n",
       "      <td>6188.000000</td>\n",
       "    </tr>\n",
       "    <tr>\n",
       "      <td>mean</td>\n",
       "      <td>88585.263835</td>\n",
       "      <td>1499.759967</td>\n",
       "      <td>2.737880</td>\n",
       "      <td>1.943762</td>\n",
       "      <td>2.540724</td>\n",
       "      <td>2.645928</td>\n",
       "      <td>1.003555</td>\n",
       "    </tr>\n",
       "    <tr>\n",
       "      <td>std</td>\n",
       "      <td>32963.318622</td>\n",
       "      <td>388.147999</td>\n",
       "      <td>0.674987</td>\n",
       "      <td>0.367244</td>\n",
       "      <td>0.841268</td>\n",
       "      <td>0.715483</td>\n",
       "      <td>0.084256</td>\n",
       "    </tr>\n",
       "    <tr>\n",
       "      <td>min</td>\n",
       "      <td>26400.000000</td>\n",
       "      <td>480.000000</td>\n",
       "      <td>1.000000</td>\n",
       "      <td>1.000000</td>\n",
       "      <td>1.000000</td>\n",
       "      <td>1.000000</td>\n",
       "      <td>1.000000</td>\n",
       "    </tr>\n",
       "    <tr>\n",
       "      <td>25%</td>\n",
       "      <td>67000.000000</td>\n",
       "      <td>1200.000000</td>\n",
       "      <td>3.000000</td>\n",
       "      <td>2.000000</td>\n",
       "      <td>3.000000</td>\n",
       "      <td>3.000000</td>\n",
       "      <td>1.000000</td>\n",
       "    </tr>\n",
       "    <tr>\n",
       "      <td>50%</td>\n",
       "      <td>88585.263835</td>\n",
       "      <td>1499.759967</td>\n",
       "      <td>3.000000</td>\n",
       "      <td>2.000000</td>\n",
       "      <td>3.000000</td>\n",
       "      <td>3.000000</td>\n",
       "      <td>1.000000</td>\n",
       "    </tr>\n",
       "    <tr>\n",
       "      <td>75%</td>\n",
       "      <td>99000.000000</td>\n",
       "      <td>1600.000000</td>\n",
       "      <td>3.000000</td>\n",
       "      <td>2.000000</td>\n",
       "      <td>3.000000</td>\n",
       "      <td>3.000000</td>\n",
       "      <td>1.000000</td>\n",
       "    </tr>\n",
       "    <tr>\n",
       "      <td>max</td>\n",
       "      <td>318000.000000</td>\n",
       "      <td>3500.000000</td>\n",
       "      <td>3.000000</td>\n",
       "      <td>3.000000</td>\n",
       "      <td>3.000000</td>\n",
       "      <td>3.000000</td>\n",
       "      <td>3.000000</td>\n",
       "    </tr>\n",
       "  </tbody>\n",
       "</table>\n",
       "</div>"
      ],
      "text/plain": [
       "               PRICE         SQFT     BEDROOMS       TITLED     LOCATION  \\\n",
       "count    6188.000000  6188.000000  6188.000000  6188.000000  6188.000000   \n",
       "mean    88585.263835  1499.759967     2.737880     1.943762     2.540724   \n",
       "std     32963.318622   388.147999     0.674987     0.367244     0.841268   \n",
       "min     26400.000000   480.000000     1.000000     1.000000     1.000000   \n",
       "25%     67000.000000  1200.000000     3.000000     2.000000     3.000000   \n",
       "50%     88585.263835  1499.759967     3.000000     2.000000     3.000000   \n",
       "75%     99000.000000  1600.000000     3.000000     2.000000     3.000000   \n",
       "max    318000.000000  3500.000000     3.000000     3.000000     3.000000   \n",
       "\n",
       "        FOUNDATION      SECURED  \n",
       "count  6188.000000  6188.000000  \n",
       "mean      2.645928     1.003555  \n",
       "std       0.715483     0.084256  \n",
       "min       1.000000     1.000000  \n",
       "25%       3.000000     1.000000  \n",
       "50%       3.000000     1.000000  \n",
       "75%       3.000000     1.000000  \n",
       "max       3.000000     3.000000  "
      ]
     },
     "execution_count": 23,
     "metadata": {},
     "output_type": "execute_result"
    }
   ],
   "source": [
    "# Understanding statistics \n",
    "Clean_data.describe()"
   ]
  },
  {
   "cell_type": "markdown",
   "metadata": {},
   "source": [
    "1. Standard deviation of 'SECURED' is very low at 0.08 with min as 1 and max as 3 and this is quite understandable since 80% data were missing and got imputed.\n",
    "2. Minimum square footage of the house in the dataset is of 480 SFT while the biggest house is of 3500 SFT.\n",
    "3. Average area in the house is approx. 1500 SFT."
   ]
  },
  {
   "cell_type": "code",
   "execution_count": 24,
   "metadata": {},
   "outputs": [
    {
     "data": {
      "image/png": "[encoded data removed]",
      "text/plain": [
       "<Figure size 432x288 with 9 Axes>"
      ]
     },
     "metadata": {
      "needs_background": "light"
     },
     "output_type": "display_data"
    }
   ],
   "source": [
    "# Density plot to understand variation ----- ANYTHING TO BE DROPPED\n",
    "K=Clean_data.plot(kind='density',subplots=True,layout=(3,3),sharex=False,sharey=False)"
   ]
  },
  {
   "cell_type": "markdown",
   "metadata": {},
   "source": [
    "1. PRICE, SQFT, TITLED and SECURED are having almost normal distribution.\n",
    "2. Negative skewness is being observed for BEDROOMS,LOCATION and FOUNDATION"
   ]
  },
  {
   "cell_type": "code",
   "execution_count": 25,
   "metadata": {},
   "outputs": [
    {
     "data": {
      "text/plain": [
       "<Figure size 576x360 with 0 Axes>"
      ]
     },
     "metadata": {},
     "output_type": "display_data"
    },
    {
     "data": {
      "image/png": "[encoded data removed]",
      "text/plain": [
       "<Figure size 432x432 with 3 Axes>"
      ]
     },
     "metadata": {
      "needs_background": "light"
     },
     "output_type": "display_data"
    }
   ],
   "source": [
    "# Plotting relationship between PRICE and SQFT\n",
    "plt.figure(figsize = (8, 5))\n",
    "sns.jointplot(Clean_data.SQFT, Clean_data.PRICE, \n",
    "              alpha = 0.5)\n",
    "plt.xlabel('Sqft Living')\n",
    "plt.ylabel('Sale Price')\n",
    "plt.show()"
   ]
  },
  {
   "cell_type": "markdown",
   "metadata": {},
   "source": [
    "1. With increase in SFT of house price is increasing\n",
    "2. Most of the house are having SFT  close to 1500 SFT"
   ]
  },
  {
   "cell_type": "code",
   "execution_count": 26,
   "metadata": {},
   "outputs": [
    {
     "name": "stdout",
     "output_type": "stream",
     "text": [
      "Bedrooms counting: \n",
      "3.0    5377\n",
      "1.0     811\n",
      "Name: BEDROOMS, dtype: int64\n"
     ]
    },
    {
     "data": {
      "image/png": "[encoded data removed]",
      "text/plain": [
       "<Figure size 1008x360 with 2 Axes>"
      ]
     },
     "metadata": {
      "needs_background": "light"
     },
     "output_type": "display_data"
    }
   ],
   "source": [
    "# Price trend based on number of bedrooms and SQFT of the house\n",
    "BEDROOMS = Clean_data['BEDROOMS'].value_counts()\n",
    "\n",
    "print(\"Bedrooms counting: \")\n",
    "print(BEDROOMS)\n",
    "\n",
    "fig, ax = plt.subplots(ncols=2, figsize=(14,5))\n",
    "sns.countplot(x='BEDROOMS', data=Clean_data, ax=ax[0])\n",
    "sns.boxplot(x='BEDROOMS', y= 'PRICE',\n",
    "            data=Clean_data, ax=ax[1])\n",
    "plt.show()"
   ]
  },
  {
   "cell_type": "markdown",
   "metadata": {},
   "source": [
    "1. Type 3 bedroom type houses are highest.\n",
    "2. Median range of price of Type 3 bedroom houses are higher than the Type 1 bedroom houses"
   ]
  },
  {
   "cell_type": "code",
   "execution_count": 27,
   "metadata": {},
   "outputs": [
    {
     "name": "stderr",
     "output_type": "stream",
     "text": [
      "C:\\Users\\rohit\\Anaconda3\\lib\\site-packages\\seaborn\\axisgrid.py:230: UserWarning: The `size` paramter has been renamed to `height`; please update your code.\n",
      "  warnings.warn(msg, UserWarning)\n"
     ]
    },
    {
     "data": {
      "text/plain": [
       "<Figure size 864x576 with 0 Axes>"
      ]
     },
     "metadata": {},
     "output_type": "display_data"
    },
    {
     "data": {
      "image/png": "[encoded data removed]",
      "text/plain": [
       "<Figure size 720x360 with 1 Axes>"
      ]
     },
     "metadata": {
      "needs_background": "light"
     },
     "output_type": "display_data"
    }
   ],
   "source": [
    "# Plotting price trend based on number of bedrooms and SQFT of the house\n",
    "plt.figure(figsize = (12,8))\n",
    "g = sns.FacetGrid(data=Clean_data, hue='BEDROOMS',size= 5, aspect=2)\n",
    "g.map(plt.scatter, 'SQFT', 'PRICE')\n",
    "plt.show()"
   ]
  },
  {
   "cell_type": "markdown",
   "metadata": {},
   "source": [
    "Price of houses with more bedrooms is increasing with square footage of the house."
   ]
  },
  {
   "cell_type": "code",
   "execution_count": 28,
   "metadata": {},
   "outputs": [
    {
     "data": {
      "image/png": "[encoded data removed]",
      "text/plain": [
       "<Figure size 720x432 with 2 Axes>"
      ]
     },
     "metadata": {
      "needs_background": "light"
     },
     "output_type": "display_data"
    }
   ],
   "source": [
    "#Correlation matrix of continuous variables.\n",
    "corr = Clean_data[['PRICE','SQFT']]\n",
    "plt.figure(figsize=(10,6))\n",
    "plt.title('Correlation of variables')\n",
    "sns.heatmap(corr.astype(float).corr(),vmax=1.0,  annot=True)\n",
    "plt.show()"
   ]
  },
  {
   "cell_type": "markdown",
   "metadata": {},
   "source": [
    "The features of interest are the ones with a high correlation with the target variable ‘PRICE’ (only continuous variable in the datset). From the correlation matrix, we can see that this condition is achieved for 'SQFT' variables (continuous)."
   ]
  },
  {
   "cell_type": "code",
   "execution_count": 29,
   "metadata": {},
   "outputs": [
    {
     "data": {
      "text/plain": [
       "Index(['PRICE', 'SQFT', 'BEDROOMS', 'TITLED', 'LOCATION', 'FOUNDATION',\n",
       "       'SECURED'],\n",
       "      dtype='object')"
      ]
     },
     "execution_count": 29,
     "metadata": {},
     "output_type": "execute_result"
    }
   ],
   "source": [
    "# Checking the headers\n",
    "Clean_data.columns\n"
   ]
  },
  {
   "cell_type": "code",
   "execution_count": 30,
   "metadata": {},
   "outputs": [],
   "source": [
    "#Separating the attributes from the predicting attribute i.e.PRICE and dropping SECURED column \n",
    "#with 80% missing value\n",
    "Clean_data.drop(['SECURED'], axis=1, inplace=True)"
   ]
  },
  {
   "cell_type": "code",
   "execution_count": 31,
   "metadata": {},
   "outputs": [],
   "source": [
    "# Feature selection\n",
    "features =  list(Clean_data.drop(['PRICE'],axis=1))\n",
    "y = Clean_data.PRICE\n",
    "x = Clean_data[features]"
   ]
  },
  {
   "cell_type": "code",
   "execution_count": 32,
   "metadata": {},
   "outputs": [
    {
     "data": {
      "text/plain": [
       "<matplotlib.axes._subplots.AxesSubplot at 0x1f82ab590c8>"
      ]
     },
     "execution_count": 32,
     "metadata": {},
     "output_type": "execute_result"
    },
    {
     "data": {
      "image/png": "[encoded data removed]",
      "text/plain": [
       "<Figure size 432x288 with 1 Axes>"
      ]
     },
     "metadata": {
      "needs_background": "light"
     },
     "output_type": "display_data"
    }
   ],
   "source": [
    "# Checking outliers\n",
    "import seaborn as sns\n",
    "sns.boxplot(data=Clean_data,x=Clean_data['SQFT'])\n"
   ]
  },
  {
   "cell_type": "markdown",
   "metadata": {},
   "source": [
    "1. Any datappoints below the min or exceeding the max are outliers.\n",
    "2. However, in the house price also depends on location and at a prime location, less square footage of house can cost more. Hence outlier treatment is not being performed."
   ]
  },
  {
   "cell_type": "code",
   "execution_count": 33,
   "metadata": {},
   "outputs": [],
   "source": [
    "#Initialize the linear regression model\n",
    "from sklearn import linear_model\n",
    "reg = linear_model.LinearRegression()"
   ]
  },
  {
   "cell_type": "code",
   "execution_count": 34,
   "metadata": {},
   "outputs": [],
   "source": [
    "# Importing libraries\n",
    "from sklearn.model_selection import train_test_split, KFold, cross_val_score # to split the data\n",
    "from sklearn.metrics import explained_variance_score, median_absolute_error,r2_score, mean_squared_error #To evaluate our model\n",
    "\n"
   ]
  },
  {
   "cell_type": "code",
   "execution_count": 35,
   "metadata": {},
   "outputs": [],
   "source": [
    "#Split the data into 67% training and 33% testing data\n",
    "x_train, x_test, y_train, y_test = train_test_split(x, y, test_size=0.33, random_state=42)"
   ]
  },
  {
   "cell_type": "code",
   "execution_count": 36,
   "metadata": {},
   "outputs": [],
   "source": [
    "# Standardizing the data\n",
    "from sklearn.preprocessing import StandardScaler\n",
    "sc_X = StandardScaler()"
   ]
  },
  {
   "cell_type": "code",
   "execution_count": 37,
   "metadata": {},
   "outputs": [],
   "source": [
    "x_train = sc_X.fit_transform(x_train)\n",
    "x_test = sc_X.transform(x_test)"
   ]
  },
  {
   "cell_type": "code",
   "execution_count": 38,
   "metadata": {},
   "outputs": [
    {
     "data": {
      "text/plain": [
       "LinearRegression(copy_X=True, fit_intercept=True, n_jobs=None, normalize=False)"
      ]
     },
     "execution_count": 38,
     "metadata": {},
     "output_type": "execute_result"
    }
   ],
   "source": [
    "#Train/fit our model with the training data\n",
    "reg.fit(x_train, y_train)"
   ]
  },
  {
   "cell_type": "code",
   "execution_count": 39,
   "metadata": {},
   "outputs": [
    {
     "data": {
      "text/html": [
       "<div>\n",
       "<style scoped>\n",
       "    .dataframe tbody tr th:only-of-type {\n",
       "        vertical-align: middle;\n",
       "    }\n",
       "\n",
       "    .dataframe tbody tr th {\n",
       "        vertical-align: top;\n",
       "    }\n",
       "\n",
       "    .dataframe thead th {\n",
       "        text-align: right;\n",
       "    }\n",
       "</style>\n",
       "<table border=\"1\" class=\"dataframe\">\n",
       "  <thead>\n",
       "    <tr style=\"text-align: right;\">\n",
       "      <th></th>\n",
       "      <th>Coefficient</th>\n",
       "    </tr>\n",
       "  </thead>\n",
       "  <tbody>\n",
       "    <tr>\n",
       "      <td>SQFT</td>\n",
       "      <td>24397.855797</td>\n",
       "    </tr>\n",
       "    <tr>\n",
       "      <td>BEDROOMS</td>\n",
       "      <td>-3978.301328</td>\n",
       "    </tr>\n",
       "    <tr>\n",
       "      <td>TITLED</td>\n",
       "      <td>-791.582824</td>\n",
       "    </tr>\n",
       "    <tr>\n",
       "      <td>LOCATION</td>\n",
       "      <td>-3245.714684</td>\n",
       "    </tr>\n",
       "    <tr>\n",
       "      <td>FOUNDATION</td>\n",
       "      <td>-2765.802443</td>\n",
       "    </tr>\n",
       "  </tbody>\n",
       "</table>\n",
       "</div>"
      ],
      "text/plain": [
       "             Coefficient\n",
       "SQFT        24397.855797\n",
       "BEDROOMS    -3978.301328\n",
       "TITLED       -791.582824\n",
       "LOCATION    -3245.714684\n",
       "FOUNDATION  -2765.802443"
      ]
     },
     "execution_count": 39,
     "metadata": {},
     "output_type": "execute_result"
    }
   ],
   "source": [
    "# Finding the coefficient of the dataframe\n",
    "coeff_df = pd.DataFrame(reg.coef_, x.columns, columns=['Coefficient'])  \n",
    "coeff_df\n"
   ]
  },
  {
   "cell_type": "code",
   "execution_count": 40,
   "metadata": {},
   "outputs": [],
   "source": [
    "# stats model\n",
    "import statsmodels.api as sm"
   ]
  },
  {
   "cell_type": "code",
   "execution_count": 41,
   "metadata": {},
   "outputs": [],
   "source": [
    "model = sm.OLS(y_train,x_train).fit()"
   ]
  },
  {
   "cell_type": "code",
   "execution_count": 42,
   "metadata": {},
   "outputs": [
    {
     "data": {
      "text/html": [
       "<table class=\"simpletable\">\n",
       "<caption>OLS Regression Results</caption>\n",
       "<tr>\n",
       "  <th>Dep. Variable:</th>          <td>PRICE</td>      <th>  R-squared (uncentered):</th>      <td>   0.059</td> \n",
       "</tr>\n",
       "<tr>\n",
       "  <th>Model:</th>                   <td>OLS</td>       <th>  Adj. R-squared (uncentered):</th> <td>   0.058</td> \n",
       "</tr>\n",
       "<tr>\n",
       "  <th>Method:</th>             <td>Least Squares</td>  <th>  F-statistic:       </th>          <td>   51.72</td> \n",
       "</tr>\n",
       "<tr>\n",
       "  <th>Date:</th>             <td>Tue, 14 Apr 2020</td> <th>  Prob (F-statistic):</th>          <td>3.49e-52</td> \n",
       "</tr>\n",
       "<tr>\n",
       "  <th>Time:</th>                 <td>22:43:20</td>     <th>  Log-Likelihood:    </th>          <td> -53284.</td> \n",
       "</tr>\n",
       "<tr>\n",
       "  <th>No. Observations:</th>      <td>  4145</td>      <th>  AIC:               </th>          <td>1.066e+05</td>\n",
       "</tr>\n",
       "<tr>\n",
       "  <th>Df Residuals:</th>          <td>  4140</td>      <th>  BIC:               </th>          <td>1.066e+05</td>\n",
       "</tr>\n",
       "<tr>\n",
       "  <th>Df Model:</th>              <td>     5</td>      <th>                     </th>              <td> </td>    \n",
       "</tr>\n",
       "<tr>\n",
       "  <th>Covariance Type:</th>      <td>nonrobust</td>    <th>                     </th>              <td> </td>    \n",
       "</tr>\n",
       "</table>\n",
       "<table class=\"simpletable\">\n",
       "<tr>\n",
       "   <td></td>     <th>coef</th>     <th>std err</th>      <th>t</th>      <th>P>|t|</th>  <th>[0.025</th>    <th>0.975]</th>  \n",
       "</tr>\n",
       "<tr>\n",
       "  <th>x1</th> <td>  2.44e+04</td> <td> 1623.633</td> <td>   15.027</td> <td> 0.000</td> <td> 2.12e+04</td> <td> 2.76e+04</td>\n",
       "</tr>\n",
       "<tr>\n",
       "  <th>x2</th> <td>-3978.3013</td> <td> 1617.818</td> <td>   -2.459</td> <td> 0.014</td> <td>-7150.093</td> <td> -806.510</td>\n",
       "</tr>\n",
       "<tr>\n",
       "  <th>x3</th> <td> -791.5828</td> <td> 1501.340</td> <td>   -0.527</td> <td> 0.598</td> <td>-3735.016</td> <td> 2151.850</td>\n",
       "</tr>\n",
       "<tr>\n",
       "  <th>x4</th> <td>-3245.7147</td> <td> 1511.737</td> <td>   -2.147</td> <td> 0.032</td> <td>-6209.531</td> <td> -281.898</td>\n",
       "</tr>\n",
       "<tr>\n",
       "  <th>x5</th> <td>-2765.8024</td> <td> 1541.788</td> <td>   -1.794</td> <td> 0.073</td> <td>-5788.535</td> <td>  256.930</td>\n",
       "</tr>\n",
       "</table>\n",
       "<table class=\"simpletable\">\n",
       "<tr>\n",
       "  <th>Omnibus:</th>       <td>2353.511</td> <th>  Durbin-Watson:     </th> <td>   0.144</td> \n",
       "</tr>\n",
       "<tr>\n",
       "  <th>Prob(Omnibus):</th>  <td> 0.000</td>  <th>  Jarque-Bera (JB):  </th> <td>29722.296</td>\n",
       "</tr>\n",
       "<tr>\n",
       "  <th>Skew:</th>           <td> 2.461</td>  <th>  Prob(JB):          </th> <td>    0.00</td> \n",
       "</tr>\n",
       "<tr>\n",
       "  <th>Kurtosis:</th>       <td>15.160</td>  <th>  Cond. No.          </th> <td>    1.72</td> \n",
       "</tr>\n",
       "</table><br/><br/>Warnings:<br/>[1] Standard Errors assume that the covariance matrix of the errors is correctly specified."
      ],
      "text/plain": [
       "<class 'statsmodels.iolib.summary.Summary'>\n",
       "\"\"\"\n",
       "                                 OLS Regression Results                                \n",
       "=======================================================================================\n",
       "Dep. Variable:                  PRICE   R-squared (uncentered):                   0.059\n",
       "Model:                            OLS   Adj. R-squared (uncentered):              0.058\n",
       "Method:                 Least Squares   F-statistic:                              51.72\n",
       "Date:                Tue, 14 Apr 2020   Prob (F-statistic):                    3.49e-52\n",
       "Time:                        22:43:20   Log-Likelihood:                         -53284.\n",
       "No. Observations:                4145   AIC:                                  1.066e+05\n",
       "Df Residuals:                    4140   BIC:                                  1.066e+05\n",
       "Df Model:                           5                                                  \n",
       "Covariance Type:            nonrobust                                                  \n",
       "==============================================================================\n",
       "                 coef    std err          t      P>|t|      [0.025      0.975]\n",
       "------------------------------------------------------------------------------\n",
       "x1           2.44e+04   1623.633     15.027      0.000    2.12e+04    2.76e+04\n",
       "x2         -3978.3013   1617.818     -2.459      0.014   -7150.093    -806.510\n",
       "x3          -791.5828   1501.340     -0.527      0.598   -3735.016    2151.850\n",
       "x4         -3245.7147   1511.737     -2.147      0.032   -6209.531    -281.898\n",
       "x5         -2765.8024   1541.788     -1.794      0.073   -5788.535     256.930\n",
       "==============================================================================\n",
       "Omnibus:                     2353.511   Durbin-Watson:                   0.144\n",
       "Prob(Omnibus):                  0.000   Jarque-Bera (JB):            29722.296\n",
       "Skew:                           2.461   Prob(JB):                         0.00\n",
       "Kurtosis:                      15.160   Cond. No.                         1.72\n",
       "==============================================================================\n",
       "\n",
       "Warnings:\n",
       "[1] Standard Errors assume that the covariance matrix of the errors is correctly specified.\n",
       "\"\"\""
      ]
     },
     "execution_count": 42,
     "metadata": {},
     "output_type": "execute_result"
    }
   ],
   "source": [
    "model.summary()"
   ]
  },
  {
   "cell_type": "code",
   "execution_count": 43,
   "metadata": {},
   "outputs": [],
   "source": [
    "# Comparision between actual and predicted\n",
    "y_pred = reg.predict(x_test)"
   ]
  },
  {
   "cell_type": "code",
   "execution_count": 44,
   "metadata": {},
   "outputs": [
    {
     "data": {
      "text/html": [
       "<div>\n",
       "<style scoped>\n",
       "    .dataframe tbody tr th:only-of-type {\n",
       "        vertical-align: middle;\n",
       "    }\n",
       "\n",
       "    .dataframe tbody tr th {\n",
       "        vertical-align: top;\n",
       "    }\n",
       "\n",
       "    .dataframe thead th {\n",
       "        text-align: right;\n",
       "    }\n",
       "</style>\n",
       "<table border=\"1\" class=\"dataframe\">\n",
       "  <thead>\n",
       "    <tr style=\"text-align: right;\">\n",
       "      <th></th>\n",
       "      <th>Actual</th>\n",
       "      <th>Predicted</th>\n",
       "    </tr>\n",
       "  </thead>\n",
       "  <tbody>\n",
       "    <tr>\n",
       "      <td>996</td>\n",
       "      <td>110000.000000</td>\n",
       "      <td>84155.048504</td>\n",
       "    </tr>\n",
       "    <tr>\n",
       "      <td>468</td>\n",
       "      <td>88585.263835</td>\n",
       "      <td>84140.152460</td>\n",
       "    </tr>\n",
       "    <tr>\n",
       "      <td>3094</td>\n",
       "      <td>86000.000000</td>\n",
       "      <td>125026.730843</td>\n",
       "    </tr>\n",
       "    <tr>\n",
       "      <td>3605</td>\n",
       "      <td>105000.000000</td>\n",
       "      <td>115184.157026</td>\n",
       "    </tr>\n",
       "    <tr>\n",
       "      <td>2077</td>\n",
       "      <td>60000.000000</td>\n",
       "      <td>64256.932262</td>\n",
       "    </tr>\n",
       "    <tr>\n",
       "      <td>4701</td>\n",
       "      <td>80000.000000</td>\n",
       "      <td>104047.467183</td>\n",
       "    </tr>\n",
       "    <tr>\n",
       "      <td>2377</td>\n",
       "      <td>99000.000000</td>\n",
       "      <td>110460.559932</td>\n",
       "    </tr>\n",
       "    <tr>\n",
       "      <td>2707</td>\n",
       "      <td>77000.000000</td>\n",
       "      <td>66790.520371</td>\n",
       "    </tr>\n",
       "    <tr>\n",
       "      <td>1454</td>\n",
       "      <td>88585.263835</td>\n",
       "      <td>84140.152460</td>\n",
       "    </tr>\n",
       "    <tr>\n",
       "      <td>2977</td>\n",
       "      <td>58000.000000</td>\n",
       "      <td>59331.761687</td>\n",
       "    </tr>\n",
       "    <tr>\n",
       "      <td>4416</td>\n",
       "      <td>156000.000000</td>\n",
       "      <td>102043.173951</td>\n",
       "    </tr>\n",
       "    <tr>\n",
       "      <td>2876</td>\n",
       "      <td>106000.000000</td>\n",
       "      <td>96566.691913</td>\n",
       "    </tr>\n",
       "    <tr>\n",
       "      <td>1057</td>\n",
       "      <td>112000.000000</td>\n",
       "      <td>140007.443843</td>\n",
       "    </tr>\n",
       "    <tr>\n",
       "      <td>80</td>\n",
       "      <td>51000.000000</td>\n",
       "      <td>50534.853805</td>\n",
       "    </tr>\n",
       "    <tr>\n",
       "      <td>2118</td>\n",
       "      <td>48900.000000</td>\n",
       "      <td>52637.891233</td>\n",
       "    </tr>\n",
       "    <tr>\n",
       "      <td>346</td>\n",
       "      <td>88585.263835</td>\n",
       "      <td>84140.152460</td>\n",
       "    </tr>\n",
       "    <tr>\n",
       "      <td>1897</td>\n",
       "      <td>157000.000000</td>\n",
       "      <td>142161.740698</td>\n",
       "    </tr>\n",
       "    <tr>\n",
       "      <td>1672</td>\n",
       "      <td>88585.263835</td>\n",
       "      <td>84140.152460</td>\n",
       "    </tr>\n",
       "    <tr>\n",
       "      <td>3148</td>\n",
       "      <td>126000.000000</td>\n",
       "      <td>153901.311862</td>\n",
       "    </tr>\n",
       "    <tr>\n",
       "      <td>5214</td>\n",
       "      <td>88585.263835</td>\n",
       "      <td>118148.836893</td>\n",
       "    </tr>\n",
       "    <tr>\n",
       "      <td>4810</td>\n",
       "      <td>94000.000000</td>\n",
       "      <td>104254.738227</td>\n",
       "    </tr>\n",
       "    <tr>\n",
       "      <td>2034</td>\n",
       "      <td>70000.000000</td>\n",
       "      <td>71743.405096</td>\n",
       "    </tr>\n",
       "    <tr>\n",
       "      <td>4294</td>\n",
       "      <td>90000.000000</td>\n",
       "      <td>127595.800434</td>\n",
       "    </tr>\n",
       "    <tr>\n",
       "      <td>3844</td>\n",
       "      <td>170000.000000</td>\n",
       "      <td>81585.978913</td>\n",
       "    </tr>\n",
       "    <tr>\n",
       "      <td>3207</td>\n",
       "      <td>77000.000000</td>\n",
       "      <td>127595.800434</td>\n",
       "    </tr>\n",
       "  </tbody>\n",
       "</table>\n",
       "</div>"
      ],
      "text/plain": [
       "             Actual      Predicted\n",
       "996   110000.000000   84155.048504\n",
       "468    88585.263835   84140.152460\n",
       "3094   86000.000000  125026.730843\n",
       "3605  105000.000000  115184.157026\n",
       "2077   60000.000000   64256.932262\n",
       "4701   80000.000000  104047.467183\n",
       "2377   99000.000000  110460.559932\n",
       "2707   77000.000000   66790.520371\n",
       "1454   88585.263835   84140.152460\n",
       "2977   58000.000000   59331.761687\n",
       "4416  156000.000000  102043.173951\n",
       "2876  106000.000000   96566.691913\n",
       "1057  112000.000000  140007.443843\n",
       "80     51000.000000   50534.853805\n",
       "2118   48900.000000   52637.891233\n",
       "346    88585.263835   84140.152460\n",
       "1897  157000.000000  142161.740698\n",
       "1672   88585.263835   84140.152460\n",
       "3148  126000.000000  153901.311862\n",
       "5214   88585.263835  118148.836893\n",
       "4810   94000.000000  104254.738227\n",
       "2034   70000.000000   71743.405096\n",
       "4294   90000.000000  127595.800434\n",
       "3844  170000.000000   81585.978913\n",
       "3207   77000.000000  127595.800434"
      ]
     },
     "execution_count": 44,
     "metadata": {},
     "output_type": "execute_result"
    }
   ],
   "source": [
    "df = pd.DataFrame({'Actual': y_test, 'Predicted': y_pred})\n",
    "df1 = df.head(25)\n",
    "df\n",
    "df1"
   ]
  },
  {
   "cell_type": "code",
   "execution_count": 45,
   "metadata": {},
   "outputs": [
    {
     "name": "stdout",
     "output_type": "stream",
     "text": [
      "Mean Absolute Error: 14351.104333339455\n",
      "Mean Squared Error: 484364372.7479609\n",
      "Root Mean Squared Error: 22008.279640807024\n"
     ]
    }
   ],
   "source": [
    "# Error computation\n",
    "print('Mean Absolute Error:', metrics.mean_absolute_error(y_test, y_pred))  \n",
    "print('Mean Squared Error:', metrics.mean_squared_error(y_test, y_pred))  \n",
    "print('Root Mean Squared Error:', np.sqrt(metrics.mean_squared_error(y_test, y_pred)))"
   ]
  },
  {
   "cell_type": "code",
   "execution_count": 46,
   "metadata": {},
   "outputs": [
    {
     "name": "stdout",
     "output_type": "stream",
     "text": [
      "484364372.7479609\n"
     ]
    }
   ],
   "source": [
    "#To check model performance/accuracy using,\n",
    "# mean squared error which tells how close a regression line is to a set of points.\n",
    "from sklearn.metrics import r2_score\n",
    "\n",
    "#  Mean squared error by sklearn \n",
    "from sklearn.metrics import mean_squared_error\n",
    "print(mean_squared_error(y_test, y_pred))\n"
   ]
  },
  {
   "cell_type": "code",
   "execution_count": 47,
   "metadata": {},
   "outputs": [],
   "source": [
    "# Trying more complex algorithms\n",
    "from sklearn.tree import DecisionTreeRegressor\n",
    "from sklearn.ensemble import RandomForestRegressor\n",
    "from sklearn.ensemble import GradientBoostingRegressor\n",
    "models = [RandomForestRegressor(n_estimators=200,criterion='mse',max_depth=20,random_state=100),DecisionTreeRegressor(criterion='mse',max_depth=11,random_state=100),GradientBoostingRegressor(n_estimators=200,max_depth=12)]\n",
    "learning_mods = pd.DataFrame()\n",
    "temp = {}"
   ]
  },
  {
   "cell_type": "code",
   "execution_count": 48,
   "metadata": {},
   "outputs": [
    {
     "data": {
      "text/plain": [
       "996     110000.000000\n",
       "468      88585.263835\n",
       "3094     86000.000000\n",
       "3605    105000.000000\n",
       "2077     60000.000000\n",
       "            ...      \n",
       "366      88585.263835\n",
       "2132     88585.263835\n",
       "1432     88585.263835\n",
       "5324     59000.000000\n",
       "4320     66000.000000\n",
       "Name: PRICE, Length: 2043, dtype: float64"
      ]
     },
     "execution_count": 48,
     "metadata": {},
     "output_type": "execute_result"
    }
   ],
   "source": [
    "#print the actual price of houses from the testing data set\n",
    "y_test"
   ]
  },
  {
   "cell_type": "code",
   "execution_count": 49,
   "metadata": {
    "scrolled": false
   },
   "outputs": [
    {
     "name": "stdout",
     "output_type": "stream",
     "text": [
      "RandomForestRegressor(bootstrap=True, criterion='mse', max_depth=20,\n",
      "                      max_features='auto', max_leaf_nodes=None,\n",
      "                      min_impurity_decrease=0.0, min_impurity_split=None,\n",
      "                      min_samples_leaf=1, min_samples_split=2,\n",
      "                      min_weight_fraction_leaf=0.0, n_estimators=200,\n",
      "                      n_jobs=None, oob_score=False, random_state=100, verbose=0,\n",
      "                      warm_start=False)\n",
      "score on training 0.6038962844201998\n",
      "r2 score 0.4669698704256544\n",
      "DecisionTreeRegressor(criterion='mse', max_depth=11, max_features=None,\n",
      "                      max_leaf_nodes=None, min_impurity_decrease=0.0,\n",
      "                      min_impurity_split=None, min_samples_leaf=1,\n",
      "                      min_samples_split=2, min_weight_fraction_leaf=0.0,\n",
      "                      presort=False, random_state=100, splitter='best')\n",
      "score on training 0.6074159879476192\n",
      "r2 score 0.43261529841672053\n",
      "GradientBoostingRegressor(alpha=0.9, criterion='friedman_mse', init=None,\n",
      "                          learning_rate=0.1, loss='ls', max_depth=12,\n",
      "                          max_features=None, max_leaf_nodes=None,\n",
      "                          min_impurity_decrease=0.0, min_impurity_split=None,\n",
      "                          min_samples_leaf=1, min_samples_split=2,\n",
      "                          min_weight_fraction_leaf=0.0, n_estimators=200,\n",
      "                          n_iter_no_change=None, presort='auto',\n",
      "                          random_state=None, subsample=1.0, tol=0.0001,\n",
      "                          validation_fraction=0.1, verbose=0, warm_start=False)\n",
      "score on training 0.6085259142131784\n",
      "r2 score 0.43102905433691896\n"
     ]
    },
    {
     "data": {
      "image/png": "[encoded data removed]",
      "text/plain": [
       "<Figure size 720x288 with 1 Axes>"
      ]
     },
     "metadata": {
      "needs_background": "light"
     },
     "output_type": "display_data"
    }
   ],
   "source": [
    "#run through models\n",
    "for model in models:\n",
    "    print(model)\n",
    "    m = str(model)\n",
    "    temp['Model'] = m[:m.index('(')]\n",
    "    model.fit(x_train, y_train)\n",
    "    temp['R2_Price'] = r2_score(y_test, model.predict(x_test))\n",
    "    print('score on training',model.score(x_train, y_train))\n",
    "    print('r2 score',r2_score(y_test, model.predict(x_test)))\n",
    "    learning_mods = learning_mods.append([temp])\n",
    "learning_mods.set_index('Model', inplace=True)\n",
    " \n",
    "fig, axes = plt.subplots(ncols=1, figsize=(10, 4))\n",
    "learning_mods.R2_Price.plot(ax=axes, kind='bar', title='R2_Price')\n",
    "plt.show()"
   ]
  },
  {
   "cell_type": "markdown",
   "metadata": {},
   "source": [
    "Neural Network, SVR,\n",
    "MSE comparison... Lasso regression -\n",
    "LR, 2 ways - Bias issue 1 to takeSimplest model,\n",
    "MSE N Rsq close to 1 \n",
    "Most likely bias - major issue\n",
    "Algorithm not able to do justice and fit properly, detect the pattern of the data\n",
    "Hence more complex models---- name\n",
    "Error comparison\n",
    "Data is still underfitting, data is insufficient to capture variation in my target variable\n",
    "As of now I have data constraint (data.gov), adding more features and records might address the issue.\n",
    "\n",
    "Variable such as ..... potentially impact the target variable\n",
    "\n",
    "OneHotEncoding - Categorical Variable\n"
   ]
  },
  {
   "cell_type": "markdown",
   "metadata": {},
   "source": [
    "All RandomForestRegression has highest r2 at  0.47\n"
   ]
  },
  {
   "cell_type": "code",
   "execution_count": 50,
   "metadata": {},
   "outputs": [],
   "source": [
    "# Load libraries\n",
    "from sklearn.linear_model import SGDRegressor\n",
    "from sklearn.model_selection import KFold, cross_val_score, train_test_split # Model evaluation\n",
    "from sklearn.preprocessing import LabelEncoder, OneHotEncoder, StandardScaler # Preprocessing\n",
    "from sklearn.linear_model import Lasso, Ridge, ElasticNet, RANSACRegressor, SGDRegressor, HuberRegressor, BayesianRidge # Linear models\n",
    "from sklearn.ensemble import RandomForestRegressor, BaggingRegressor, AdaBoostRegressor, GradientBoostingRegressor, ExtraTreesRegressor  # Ensemble methods\n",
    "from xgboost import XGBRegressor, plot_importance # XGBoost\n",
    "from sklearn.svm import SVR  # Support Vector Regression\n",
    "from sklearn.tree import DecisionTreeRegressor # Decision Tree Regression\n",
    "from sklearn.neighbors import KNeighborsRegressor\n",
    "from sklearn.pipeline import Pipeline # Streaming pipelines\n",
    "from sklearn.decomposition import KernelPCA, PCA # Dimensionality reduction\n",
    "from sklearn.feature_selection import SelectFromModel # Dimensionality reduction\n",
    "from sklearn.model_selection import learning_curve, validation_curve, GridSearchCV # Model evaluation\n",
    "from sklearn.base import clone # Clone estimator\n",
    "from sklearn.metrics import mean_squared_error as MSE"
   ]
  },
  {
   "cell_type": "code",
   "execution_count": 60,
   "metadata": {},
   "outputs": [
    {
     "name": "stdout",
     "output_type": "stream",
     "text": [
      "Scaled_Ridge: 0.463414 (+/- 0.032222)\n",
      "Scaled_Lasso: 0.463444 (+/- 0.032149)\n",
      "Scaled_Elastic: 0.403030 (+/- 0.035802)\n",
      "Scaled_SVR: 0.438085 (+/- 0.035194)\n",
      "Scaled_RF_reg: 0.445320 (+/- 0.055748)\n",
      "Scaled_ET_reg: 0.419942 (+/- 0.059918)\n",
      "Scaled_BR_reg: 0.445269 (+/- 0.055326)\n",
      "Scaled_Hub-Reg: 0.452322 (+/- 0.036483)\n",
      "Scaled_BayRidge: 0.463428 (+/- 0.032255)\n",
      "Scaled_XGB_reg: 0.433814 (+/- 0.052457)\n",
      "Scaled_DT_reg: 0.412215 (+/- 0.057479)\n",
      "Scaled_KNN_reg: 0.425598 (+/- 0.050134)\n",
      "Scaled_ADA-Reg: 0.285688 (+/- 0.064386)\n",
      "Scaled_Gboost-Reg: 0.500340 (+/- 0.022720)\n",
      "Scaled_RFR_PCA: 0.445349 (+/- 0.047999)\n",
      "Scaled_XGBR_PCA: 0.418332 (+/- 0.052670)\n"
     ]
    },
    {
     "data": {
      "image/png": "[encoded data removed]",
      "text/plain": [
       "<Figure size 1080x432 with 1 Axes>"
      ]
     },
     "metadata": {
      "needs_background": "light"
     },
     "output_type": "display_data"
    }
   ],
   "source": [
    "# Using pipeline for further complex algorithms\n",
    "pipelines = []\n",
    "seed = 2\n",
    "\n",
    "pipelines.append(\n",
    "                (\"Scaled_Ridge\", \n",
    "                 Pipeline([\n",
    "                     (\"Scaler\", StandardScaler()), \n",
    "                     (\"Ridge\", Ridge(random_state=seed, tol=10 ))\n",
    "                      ]))\n",
    "                )\n",
    "pipelines.append(\n",
    "                (\"Scaled_Lasso\", \n",
    "                 Pipeline([\n",
    "                     (\"Scaler\", StandardScaler()), \n",
    "                     (\"Lasso\", Lasso(random_state=seed, tol=1))\n",
    "                      ]))\n",
    "                )\n",
    "pipelines.append(\n",
    "                (\"Scaled_Elastic\", \n",
    "                 Pipeline([\n",
    "                     (\"Scaler\", StandardScaler()), \n",
    "                     (\"Lasso\", ElasticNet(random_state=seed))\n",
    "                      ]))\n",
    "                )\n",
    "\n",
    "pipelines.append(\n",
    "                (\"Scaled_SVR\",\n",
    "                 Pipeline([\n",
    "                     (\"Scaler\", StandardScaler()),\n",
    "                     (\"SVR\",  SVR(kernel='linear', C=1e2, degree=5))\n",
    "                 ])\n",
    "                )\n",
    "                )\n",
    "\n",
    "pipelines.append(\n",
    "                (\"Scaled_RF_reg\",\n",
    "                 Pipeline([\n",
    "                     (\"Scaler\", StandardScaler()),\n",
    "                     (\"RF\", RandomForestRegressor(random_state=seed))\n",
    "                 ])\n",
    "                )\n",
    "                )\n",
    "\n",
    "pipelines.append(\n",
    "                (\"Scaled_ET_reg\",\n",
    "                 Pipeline([\n",
    "                     (\"Scaler\", StandardScaler()),\n",
    "                     (\"ET\", ExtraTreesRegressor(random_state=seed))\n",
    "                 ])\n",
    "                )\n",
    "                )\n",
    "pipelines.append(\n",
    "                (\"Scaled_BR_reg\",\n",
    "                 Pipeline([\n",
    "                     (\"Scaler\", StandardScaler()),\n",
    "                     (\"BR\", BaggingRegressor(random_state=seed))\n",
    "                 ]))) \n",
    "\n",
    "pipelines.append(\n",
    "                (\"Scaled_Hub-Reg\",\n",
    "                 Pipeline([\n",
    "                     (\"Scaler\", StandardScaler()),\n",
    "                     (\"Hub-Reg\", HuberRegressor())\n",
    "                 ]))) \n",
    "pipelines.append(\n",
    "                (\"Scaled_BayRidge\",\n",
    "                 Pipeline([\n",
    "                     (\"Scaler\", StandardScaler()),\n",
    "                     (\"BR\", BayesianRidge())\n",
    "                 ]))) \n",
    "\n",
    "pipelines.append(\n",
    "                (\"Scaled_XGB_reg\",\n",
    "                 Pipeline([\n",
    "                     (\"Scaler\", StandardScaler()),\n",
    "                     (\"XGBR\", XGBRegressor(seed=seed))\n",
    "                 ]))) \n",
    "\n",
    "pipelines.append(\n",
    "                (\"Scaled_DT_reg\",\n",
    "                 Pipeline([\n",
    "                     (\"Scaler\", StandardScaler()),\n",
    "                     (\"DT_reg\", DecisionTreeRegressor())\n",
    "                 ]))) \n",
    "\n",
    "pipelines.append(\n",
    "                (\"Scaled_KNN_reg\",\n",
    "                 Pipeline([\n",
    "                     (\"Scaler\", StandardScaler()),\n",
    "                     (\"KNN_reg\", KNeighborsRegressor())\n",
    "                 ])))\n",
    "pipelines.append(\n",
    "               (\"Scaled_ADA-Reg\",\n",
    "                Pipeline([\n",
    "                    (\"Scaler\", StandardScaler()),\n",
    "                    (\"ADA-reg\", AdaBoostRegressor())\n",
    "                ]))) \n",
    "\n",
    "pipelines.append(\n",
    "                (\"Scaled_Gboost-Reg\",\n",
    "                 Pipeline([\n",
    "                     (\"Scaler\", StandardScaler()),\n",
    "                     (\"GBoost-Reg\", GradientBoostingRegressor())\n",
    "                 ])))\n",
    "\n",
    "pipelines.append(\n",
    "                (\"Scaled_RFR_PCA\",\n",
    "                 Pipeline([\n",
    "                     (\"Scaler\", StandardScaler()),\n",
    "                     (\"PCA\", PCA(n_components=3)),\n",
    "                     (\"XGB\", RandomForestRegressor())\n",
    "                 ])))\n",
    "\n",
    "pipelines.append(\n",
    "                (\"Scaled_XGBR_PCA\",\n",
    "                 Pipeline([\n",
    "                     (\"Scaler\", StandardScaler()),\n",
    "                     (\"PCA\", PCA(n_components=3)),\n",
    "                     (\"XGB\", XGBRegressor())\n",
    "                 ])))\n",
    "\n",
    "#'neg_mean_absolute_error', 'neg_mean_squared_error','r2'\n",
    "scoring = 'r2'\n",
    "n_folds = 7\n",
    "\n",
    "results, names  = [], [] \n",
    "\n",
    "for name, model  in pipelines:\n",
    "    kfold = KFold(n_splits=n_folds, random_state=seed)\n",
    "    cv_results = cross_val_score(model, x_train, y_train, cv= kfold,\n",
    "                                 scoring=scoring, n_jobs=-1)    \n",
    "    names.append(name)\n",
    "    results.append(cv_results)    \n",
    "    msg = \"%s: %f (+/- %f)\" % (name, cv_results.mean(),  cv_results.std())\n",
    "    print(msg)\n",
    "    \n",
    "# boxplot algorithm comparison\n",
    "fig = plt.figure(figsize=(15,6))\n",
    "fig.suptitle('Algorithm Comparison', fontsize=22)\n",
    "ax = fig.add_subplot(111)\n",
    "sns.boxplot(x=names, y=results)\n",
    "ax.set_xticklabels(names)\n",
    "ax.set_xlabel(\"Algorithmn Name\", fontsize=20)\n",
    "ax.set_ylabel(\"R Squared Score of Models\", fontsize=18)\n",
    "ax.set_xticklabels(ax.get_xticklabels(),rotation=45)\n",
    "plt.show()\n",
    "\n"
   ]
  },
  {
   "cell_type": "markdown",
   "metadata": {},
   "source": [
    "Scaled Gboost regression is the best model with R squared error at 0.50"
   ]
  },
  {
   "cell_type": "code",
   "execution_count": 62,
   "metadata": {
    "scrolled": true
   },
   "outputs": [
    {
     "name": "stdout",
     "output_type": "stream",
     "text": [
      "Scaled_Ridge: 3.243899 (+/- 0.000000)\n",
      "Scaled_Lasso: 3.244108 (+/- 0.000000)\n",
      "Scaled_Elastic: 2.821213 (+/- 0.000000)\n",
      "Scaled_SVR: 3.066598 (+/- 0.000000)\n",
      "Scaled_RF_reg: 3.117238 (+/- 0.000000)\n",
      "Scaled_ET_reg: 2.939592 (+/- 0.000000)\n",
      "Scaled_BR_reg: 3.116884 (+/- 0.000000)\n",
      "Scaled_Hub-Reg: 3.166256 (+/- 0.000000)\n",
      "Scaled_BayRidge: 3.243996 (+/- 0.000000)\n",
      "Scaled_XGB_reg: 3.036700 (+/- 0.000000)\n",
      "Scaled_DT_reg: 2.873452 (+/- 0.000000)\n",
      "Scaled_KNN_reg: 2.979188 (+/- 0.000000)\n",
      "Scaled_ADA-Reg: 1.666766 (+/- 0.000000)\n",
      "Scaled_Gboost-Reg: 3.505376 (+/- 0.000000)\n",
      "Scaled_RFR_PCA: 3.074721 (+/- 0.000000)\n",
      "Scaled_XGBR_PCA: 2.928321 (+/- 0.000000)\n"
     ]
    },
    {
     "data": {
      "image/png": "[encoded data removed]",
      "text/plain": [
       "<Figure size 1080x432 with 1 Axes>"
      ]
     },
     "metadata": {
      "needs_background": "light"
     },
     "output_type": "display_data"
    }
   ],
   "source": [
    "from sklearn.metrics import mean_squared_error\n",
    "from sklearn.metrics import r2_score, mean_squared_error, make_scorer\n",
    "\n",
    "# mean_squared_error = mean_squared_error(y_test, y_pred)\n",
    "\n",
    "\n",
    "scoring = 'neg_mean_squared_error'\n",
    "n_folds = 7\n",
    "\n",
    "results, names  = [], [] \n",
    "\n",
    "for name, model  in pipelines:\n",
    "    kfold = KFold(n_splits=n_folds, random_state=seed)\n",
    "    cv_results = np.sum(cross_val_score(model, x_train, y_train, cv= kfold,\n",
    "                                 scoring= None, n_jobs=-1)) \n",
    "    names.append(name)\n",
    "    results.append(np.sqrt(cv_results))    \n",
    "    msg = \"%s: %f (+/- %f)\" % (name, cv_results.sum(),  cv_results.std())\n",
    "    print(msg)\n",
    "   \n",
    "# boxplot algorithm comparison\n",
    "fig = plt.figure(figsize=(15,6))\n",
    "fig.suptitle('Algorithm Comparison', fontsize=22)\n",
    "ax = fig.add_subplot(111)\n",
    "sns.barplot(x=names, y=results)\n",
    "ax.set_xticklabels(names)\n",
    "ax.set_xlabel(\"Algorithmn Name\", fontsize=20)\n",
    "ax.set_ylabel(\"RMSE of Models\", fontsize=18)\n",
    "ax.set_xticklabels(ax.get_xticklabels(),rotation=45)\n",
    "plt.show()"
   ]
  },
  {
   "cell_type": "code",
   "execution_count": 53,
   "metadata": {},
   "outputs": [
    {
     "data": {
      "text/plain": [
       "['accuracy',\n",
       " 'adjusted_mutual_info_score',\n",
       " 'adjusted_rand_score',\n",
       " 'average_precision',\n",
       " 'balanced_accuracy',\n",
       " 'brier_score_loss',\n",
       " 'completeness_score',\n",
       " 'explained_variance',\n",
       " 'f1',\n",
       " 'f1_macro',\n",
       " 'f1_micro',\n",
       " 'f1_samples',\n",
       " 'f1_weighted',\n",
       " 'fowlkes_mallows_score',\n",
       " 'homogeneity_score',\n",
       " 'jaccard',\n",
       " 'jaccard_macro',\n",
       " 'jaccard_micro',\n",
       " 'jaccard_samples',\n",
       " 'jaccard_weighted',\n",
       " 'max_error',\n",
       " 'mutual_info_score',\n",
       " 'neg_log_loss',\n",
       " 'neg_mean_absolute_error',\n",
       " 'neg_mean_squared_error',\n",
       " 'neg_mean_squared_log_error',\n",
       " 'neg_median_absolute_error',\n",
       " 'normalized_mutual_info_score',\n",
       " 'precision',\n",
       " 'precision_macro',\n",
       " 'precision_micro',\n",
       " 'precision_samples',\n",
       " 'precision_weighted',\n",
       " 'r2',\n",
       " 'recall',\n",
       " 'recall_macro',\n",
       " 'recall_micro',\n",
       " 'recall_samples',\n",
       " 'recall_weighted',\n",
       " 'roc_auc',\n",
       " 'v_measure_score']"
      ]
     },
     "execution_count": 53,
     "metadata": {},
     "output_type": "execute_result"
    }
   ],
   "source": [
    "import sklearn\n",
    "sorted(sklearn.metrics.SCORERS.keys())"
   ]
  },
  {
   "cell_type": "code",
   "execution_count": 54,
   "metadata": {},
   "outputs": [],
   "source": [
    "GBoost_Reg = GradientBoostingRegressor(n_estimators=100, learning_rate=0.01,min_samples_split = 2,\n",
    "                                       max_depth=7)\n",
    "                                        "
   ]
  },
  {
   "cell_type": "code",
   "execution_count": 55,
   "metadata": {},
   "outputs": [
    {
     "data": {
      "text/plain": [
       "GradientBoostingRegressor(alpha=0.9, criterion='friedman_mse', init=None,\n",
       "                          learning_rate=0.01, loss='ls', max_depth=7,\n",
       "                          max_features=None, max_leaf_nodes=None,\n",
       "                          min_impurity_decrease=0.0, min_impurity_split=None,\n",
       "                          min_samples_leaf=1, min_samples_split=2,\n",
       "                          min_weight_fraction_leaf=0.0, n_estimators=100,\n",
       "                          n_iter_no_change=None, presort='auto',\n",
       "                          random_state=None, subsample=1.0, tol=0.0001,\n",
       "                          validation_fraction=0.1, verbose=0, warm_start=False)"
      ]
     },
     "execution_count": 55,
     "metadata": {},
     "output_type": "execute_result"
    }
   ],
   "source": [
    "GBoost_Reg.fit(x_train, y_train)"
   ]
  },
  {
   "cell_type": "code",
   "execution_count": 56,
   "metadata": {},
   "outputs": [],
   "source": [
    "y_hat = GBoost_Reg.predict(x_test)"
   ]
  },
  {
   "cell_type": "code",
   "execution_count": 57,
   "metadata": {},
   "outputs": [
    {
     "data": {
      "text/plain": [
       "0.4656849584088457"
      ]
     },
     "execution_count": 57,
     "metadata": {},
     "output_type": "execute_result"
    }
   ],
   "source": [
    "GBoost_Reg.score(x_test,y_test)"
   ]
  }
 ],
 "metadata": {
  "kernelspec": {
   "display_name": "Python 3",
   "language": "python",
   "name": "python3"
  },
  "language_info": {
   "codemirror_mode": {
    "name": "ipython",
    "version": 3
   },
   "file_extension": ".py",
   "mimetype": "text/x-python",
   "name": "python",
   "nbconvert_exporter": "python",
   "pygments_lexer": "ipython3",
   "version": "3.7.4"
  }
 },
 "nbformat": 4,
 "nbformat_minor": 2
}
